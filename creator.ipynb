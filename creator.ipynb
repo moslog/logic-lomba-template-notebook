{
 "cells": [
  {
   "cell_type": "code",
   "execution_count": 59,
   "metadata": {},
   "outputs": [],
   "source": [
    "jml = 10"
   ]
  },
  {
   "cell_type": "code",
   "execution_count": 60,
   "metadata": {},
   "outputs": [],
   "source": [
    "before = \"\"\"{\n",
    " \\\"cells\\\": [\n",
    "  {\n",
    "   \\\"cell_type\\\": \\\"markdown\\\",\n",
    "   \\\"metadata\\\": {},\n",
    "   \\\"source\\\": [\n",
    "    \\\"# LOMBA LOGIC\\\",\n",
    "    \\\"\\\\n\\\",\n",
    "    \\\"## NAMA :  \\\"\n",
    "   ]\n",
    "  },\n",
    "  \"\"\"\n",
    "\n",
    "str_logic = \"\"\"{\n",
    "   \\\"cell_type\\\": \\\"markdown\\\",\n",
    "   \\\"metadata\\\": {},\n",
    "   \\\"source\\\": [\n",
    "    \\\"<h1 style=\\\\\"color:red\\\\\">**LOGIC %d**</h1>\\\"\n",
    "   ]\n",
    "  },\"\"\"\n",
    "\n",
    "end = \"\"\"],\n",
    " \\\"metadata\\\": {\n",
    "  \\\"kernelspec\\\": {\n",
    "   \\\"display_name\\\": \\\"Python 3\\\",\n",
    "   \\\"language\\\": \\\"python\\\",\n",
    "   \\\"name\\\": \\\"python3\\\"\n",
    "  },\n",
    "  \\\"language_info\\\": {\n",
    "   \\\"codemirror_mode\\\": {\n",
    "    \\\"name\\\": \\\"ipython\\\",\n",
    "    \\\"version\\\": 3\n",
    "   },\n",
    "   \\\"file_extension\\\": \\\".py\\\",\n",
    "   \\\"mimetype\\\": \\\"text/x-python\\\",\n",
    "   \\\"name\\\": \\\"python\\\",\n",
    "   \\\"nbconvert_exporter\\\": \\\"python\\\",\n",
    "   \\\"pygments_lexer\\\": \\\"ipython3\\\",\n",
    "   \\\"version\\\": \\\"3.6.4\\\"\n",
    "  }\n",
    " },\n",
    " \\\"nbformat\\\": 4,\n",
    " \\\"nbformat_minor\\\": 2\n",
    "}\"\"\""
   ]
  },
  {
   "cell_type": "code",
   "execution_count": 61,
   "metadata": {},
   "outputs": [],
   "source": [
    "string = \"\"\"{\n",
    "   \\\"cell_type\\\": \\\"markdown\\\",\n",
    "   \\\"metadata\\\": {},\n",
    "   \\\"source\\\": [\n",
    "    \\\"### LOGIC %d SOAL %d\\\"\n",
    "   ]\n",
    "  },\n",
    "  {\n",
    "   \\\"cell_type\\\": \\\"code\\\",\n",
    "   \\\"execution_count\\\": null,\n",
    "   \\\"metadata\\\": {},\n",
    "   \\\"outputs\\\": [],\n",
    "   \\\"source\\\": []\n",
    "  }\"\"\""
   ]
  },
  {
   "cell_type": "code",
   "execution_count": 62,
   "metadata": {},
   "outputs": [],
   "source": [
    "\n",
    "# print(before)\n",
    "# for logic in range(1,4):\n",
    "#     print(str_logic % logic)\n",
    "#     for soal in range(1,4):\n",
    "#         myEnd = '' if logic == 3 and soal == 3 else ','\n",
    "#         print(string % (logic, soal), end = myEnd)        \n",
    "# print(end)"
   ]
  },
  {
   "cell_type": "code",
   "execution_count": 63,
   "metadata": {},
   "outputs": [],
   "source": [
    "my_notebook = ''\n",
    "my_notebook += before\n",
    "for logic in range(1,jml+1):\n",
    "    my_notebook += str_logic % logic\n",
    "    for soal in range(1,jml+1):\n",
    "        myend = '' if logic == jml and soal == jml else ','\n",
    "        my_notebook += string % (logic, soal) + myend    \n",
    "my_notebook += end"
   ]
  },
  {
   "cell_type": "code",
   "execution_count": 64,
   "metadata": {},
   "outputs": [],
   "source": [
    "byte_nb = str.encode(my_notebook)"
   ]
  },
  {
   "cell_type": "code",
   "execution_count": 65,
   "metadata": {},
   "outputs": [],
   "source": [
    "f = open('data.ipynb','wb')\n",
    "f.write(byte_nb)\n",
    "f.close()"
   ]
  },
  {
   "cell_type": "code",
   "execution_count": null,
   "metadata": {},
   "outputs": [],
   "source": []
  }
 ],
 "metadata": {
  "kernelspec": {
   "display_name": "Python 3",
   "language": "python",
   "name": "python3"
  },
  "language_info": {
   "codemirror_mode": {
    "name": "ipython",
    "version": 3
   },
   "file_extension": ".py",
   "mimetype": "text/x-python",
   "name": "python",
   "nbconvert_exporter": "python",
   "pygments_lexer": "ipython3",
   "version": "3.6.4"
  }
 },
 "nbformat": 4,
 "nbformat_minor": 2
}
